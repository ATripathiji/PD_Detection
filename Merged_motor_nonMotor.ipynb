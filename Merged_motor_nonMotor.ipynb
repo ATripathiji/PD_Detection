{
 "cells": [
  {
   "cell_type": "code",
   "execution_count": 58,
   "metadata": {},
   "outputs": [],
   "source": [
    "import pandas as pd\n",
    "import pickle\n",
    "from sklearn.impute import KNNImputer\n",
    "import numpy as np\n",
    "import pandas as pd\n",
    "\n",
    "from sklearn.preprocessing import LabelEncoder\n",
    "from sklearn.model_selection import train_test_split\n",
    "from sklearn.svm import SVC\n",
    "from sklearn.metrics import accuracy_score \n",
    "from sklearn.model_selection import cross_val_score, KFold\n",
    "from sklearn.tree import DecisionTreeClassifier\n",
    "from sklearn.ensemble import RandomForestClassifier\n",
    "\n",
    "from sklearn.impute import KNNImputer\n"
   ]
  },
  {
   "cell_type": "code",
   "execution_count": 2,
   "metadata": {},
   "outputs": [],
   "source": [
    "motor=pd.read_csv('motor_final.csv')\n",
    "non_motor=pd.read_csv('non_motor_final.csv')"
   ]
  },
  {
   "cell_type": "code",
   "execution_count": 3,
   "metadata": {},
   "outputs": [],
   "source": [
    "merged = motor.merge(non_motor, how='outer', on=['PATNO'])"
   ]
  },
  {
   "cell_type": "code",
   "execution_count": 14,
   "metadata": {},
   "outputs": [
    {
     "data": {
      "text/plain": [
       "Index(['PATNO', 'NP1RTOT', 'NP1PTOT', 'NP2PTOT', 'PDTRTMNT', 'NP3TOT',\n",
       "       'DYSKPRES', 'NHY', 'NP4TOT', 'MSEADLG', 'ENROLL_AGE_x', 'SDMTOTAL',\n",
       "       'STAI_TOT', 'SFT_TOT', 'SCOPA_AUT_TOT', 'REMSLEEP_TOT', 'QUIP_A',\n",
       "       'QUIP_B', 'QUIP_C', 'QUIP_D', 'QUIP_E', 'MoCA_score', 'LNS_TOT',\n",
       "       'HVLT_TOT_Recall', 'HVLT_DCR_REC', 'HVLT_RETENTION', 'GDS_TOT',\n",
       "       'GDS_Depressed', 'ESS_TOT', 'ESS_Sleepy', 'BJLOT_TOT', 'COHORT'],\n",
       "      dtype='object')"
      ]
     },
     "execution_count": 14,
     "metadata": {},
     "output_type": "execute_result"
    }
   ],
   "source": [
    "merged.columns "
   ]
  },
  {
   "cell_type": "code",
   "execution_count": 13,
   "metadata": {},
   "outputs": [],
   "source": [
    "merged.drop('COHORT_x',axis=1,inplace=True)"
   ]
  },
  {
   "cell_type": "code",
   "execution_count": 15,
   "metadata": {},
   "outputs": [],
   "source": [
    "merged.to_csv('merged.csv')"
   ]
  },
  {
   "cell_type": "code",
   "execution_count": 17,
   "metadata": {},
   "outputs": [
    {
     "data": {
      "text/plain": [
       "PATNO                0\n",
       "NP1RTOT            384\n",
       "NP1PTOT            384\n",
       "NP2PTOT            384\n",
       "PDTRTMNT           384\n",
       "NP3TOT             384\n",
       "DYSKPRES           384\n",
       "NHY                384\n",
       "NP4TOT             384\n",
       "MSEADLG            384\n",
       "ENROLL_AGE_x       384\n",
       "SDMTOTAL             2\n",
       "STAI_TOT             2\n",
       "SFT_TOT              2\n",
       "SCOPA_AUT_TOT        2\n",
       "REMSLEEP_TOT         2\n",
       "QUIP_A               2\n",
       "QUIP_B               2\n",
       "QUIP_C               2\n",
       "QUIP_D               2\n",
       "QUIP_E               2\n",
       "MoCA_score           2\n",
       "LNS_TOT              2\n",
       "HVLT_TOT_Recall      2\n",
       "HVLT_DCR_REC         2\n",
       "HVLT_RETENTION       2\n",
       "GDS_TOT              2\n",
       "GDS_Depressed        2\n",
       "ESS_TOT              2\n",
       "ESS_Sleepy           2\n",
       "BJLOT_TOT            2\n",
       "COHORT               2\n",
       "dtype: int64"
      ]
     },
     "execution_count": 17,
     "metadata": {},
     "output_type": "execute_result"
    }
   ],
   "source": [
    "merged.isnull().sum()"
   ]
  },
  {
   "cell_type": "code",
   "execution_count": 18,
   "metadata": {},
   "outputs": [],
   "source": [
    "for cohort_value in merged['COHORT'].unique():\n",
    "    # Filter the DataFrame based on cohort value\n",
    "    cohort_df = merged[merged['COHORT'] == cohort_value]\n",
    "    \n",
    "    # Save the filtered DataFrame to a new CSV file\n",
    "    cohort_df.to_csv(f'Merged_COHORT_{cohort_value}_data.csv',index=False)"
   ]
  },
  {
   "cell_type": "code",
   "execution_count": 59,
   "metadata": {},
   "outputs": [],
   "source": [
    "df1 = pd.read_csv('Merged_COHORT_0.0_data.csv')\n",
    "df2 = pd.read_csv('Merged_COHORT_1.0_data.csv')\n",
    "df3 = pd.read_csv('Merged_COHORT_2.0_data.csv')\n",
    "df4 = pd.read_csv('Merged_COHORT_3.0_data.csv')"
   ]
  },
  {
   "cell_type": "code",
   "execution_count": 60,
   "metadata": {},
   "outputs": [],
   "source": [
    "# Define a function to fill missing values and apply KNN imputation\n",
    "def fill_missing_and_impute(df):\n",
    "    # Group DataFrame by 'PATNO' and fill missing values with median within each group\n",
    "    grouped_df = df.groupby('PATNO').transform(lambda x: x.fillna(x.median()))\n",
    "\n",
    "    # Add 'PATNO' column back to the filled DataFrame\n",
    "    df_filled = pd.concat([df['PATNO'], grouped_df], axis=1)\n",
    "\n",
    "    # Calculate the mean of each feature after filling missing values\n",
    "    grouped_mean_df = df_filled.groupby('PATNO').mean().reset_index()\n",
    "\n",
    "    # Apply KNN imputation to handle remaining missing values\n",
    "    knn = KNNImputer()\n",
    "    grouped_mean_df = pd.DataFrame(knn.fit_transform(grouped_mean_df), columns=grouped_mean_df.columns)\n",
    "    \n",
    "    return grouped_mean_df\n",
    "\n",
    "# Apply the function to all four dataframes\n",
    "df1_filled = fill_missing_and_impute(df1)\n",
    "df2_filled = fill_missing_and_impute(df2)\n",
    "df3_filled = fill_missing_and_impute(df3)\n",
    "df4_filled = fill_missing_and_impute(df4)"
   ]
  },
  {
   "cell_type": "code",
   "execution_count": 61,
   "metadata": {},
   "outputs": [],
   "source": [
    "f = pd.concat([df1_filled\n",
    "               ,df2_filled,df3_filled,df4_filled])"
   ]
  },
  {
   "cell_type": "code",
   "execution_count": 62,
   "metadata": {},
   "outputs": [
    {
     "data": {
      "text/html": [
       "<div>\n",
       "<style scoped>\n",
       "    .dataframe tbody tr th:only-of-type {\n",
       "        vertical-align: middle;\n",
       "    }\n",
       "\n",
       "    .dataframe tbody tr th {\n",
       "        vertical-align: top;\n",
       "    }\n",
       "\n",
       "    .dataframe thead th {\n",
       "        text-align: right;\n",
       "    }\n",
       "</style>\n",
       "<table border=\"1\" class=\"dataframe\">\n",
       "  <thead>\n",
       "    <tr style=\"text-align: right;\">\n",
       "      <th></th>\n",
       "      <th>PATNO</th>\n",
       "      <th>NP1RTOT</th>\n",
       "      <th>NP1PTOT</th>\n",
       "      <th>NP2PTOT</th>\n",
       "      <th>PDTRTMNT</th>\n",
       "      <th>NP3TOT</th>\n",
       "      <th>DYSKPRES</th>\n",
       "      <th>NHY</th>\n",
       "      <th>NP4TOT</th>\n",
       "      <th>MSEADLG</th>\n",
       "      <th>...</th>\n",
       "      <th>LNS_TOT</th>\n",
       "      <th>HVLT_TOT_Recall</th>\n",
       "      <th>HVLT_DCR_REC</th>\n",
       "      <th>HVLT_RETENTION</th>\n",
       "      <th>GDS_TOT</th>\n",
       "      <th>GDS_Depressed</th>\n",
       "      <th>ESS_TOT</th>\n",
       "      <th>ESS_Sleepy</th>\n",
       "      <th>BJLOT_TOT</th>\n",
       "      <th>COHORT</th>\n",
       "    </tr>\n",
       "  </thead>\n",
       "  <tbody>\n",
       "    <tr>\n",
       "      <th>848</th>\n",
       "      <td>101557.0</td>\n",
       "      <td>2.800000</td>\n",
       "      <td>5.500000</td>\n",
       "      <td>8.100000</td>\n",
       "      <td>0.800000</td>\n",
       "      <td>25.700000</td>\n",
       "      <td>0.0</td>\n",
       "      <td>2.000000</td>\n",
       "      <td>1.111111</td>\n",
       "      <td>92.000000</td>\n",
       "      <td>...</td>\n",
       "      <td>10.0</td>\n",
       "      <td>22.0</td>\n",
       "      <td>11.0</td>\n",
       "      <td>0.0</td>\n",
       "      <td>0.0</td>\n",
       "      <td>0.0</td>\n",
       "      <td>1.0</td>\n",
       "      <td>0.0</td>\n",
       "      <td>10.0</td>\n",
       "      <td>0.0</td>\n",
       "    </tr>\n",
       "    <tr>\n",
       "      <th>945</th>\n",
       "      <td>113355.0</td>\n",
       "      <td>1.666667</td>\n",
       "      <td>6.166667</td>\n",
       "      <td>6.833333</td>\n",
       "      <td>0.666667</td>\n",
       "      <td>26.750000</td>\n",
       "      <td>0.0</td>\n",
       "      <td>2.000000</td>\n",
       "      <td>0.000000</td>\n",
       "      <td>97.500000</td>\n",
       "      <td>...</td>\n",
       "      <td>12.0</td>\n",
       "      <td>25.0</td>\n",
       "      <td>9.0</td>\n",
       "      <td>1.0</td>\n",
       "      <td>2.0</td>\n",
       "      <td>0.0</td>\n",
       "      <td>12.0</td>\n",
       "      <td>1.0</td>\n",
       "      <td>14.0</td>\n",
       "      <td>0.0</td>\n",
       "    </tr>\n",
       "    <tr>\n",
       "      <th>84</th>\n",
       "      <td>3350.0</td>\n",
       "      <td>0.153846</td>\n",
       "      <td>3.153846</td>\n",
       "      <td>0.307692</td>\n",
       "      <td>0.000000</td>\n",
       "      <td>2.923077</td>\n",
       "      <td>0.0</td>\n",
       "      <td>0.153846</td>\n",
       "      <td>0.000000</td>\n",
       "      <td>100.000000</td>\n",
       "      <td>...</td>\n",
       "      <td>14.0</td>\n",
       "      <td>32.0</td>\n",
       "      <td>11.0</td>\n",
       "      <td>0.0</td>\n",
       "      <td>0.0</td>\n",
       "      <td>0.0</td>\n",
       "      <td>6.0</td>\n",
       "      <td>0.0</td>\n",
       "      <td>14.0</td>\n",
       "      <td>1.0</td>\n",
       "    </tr>\n",
       "    <tr>\n",
       "      <th>32</th>\n",
       "      <td>3115.0</td>\n",
       "      <td>0.250000</td>\n",
       "      <td>0.000000</td>\n",
       "      <td>0.000000</td>\n",
       "      <td>0.000000</td>\n",
       "      <td>0.000000</td>\n",
       "      <td>0.0</td>\n",
       "      <td>0.000000</td>\n",
       "      <td>0.000000</td>\n",
       "      <td>99.246154</td>\n",
       "      <td>...</td>\n",
       "      <td>12.0</td>\n",
       "      <td>19.0</td>\n",
       "      <td>11.0</td>\n",
       "      <td>1.0</td>\n",
       "      <td>2.0</td>\n",
       "      <td>0.0</td>\n",
       "      <td>10.0</td>\n",
       "      <td>0.0</td>\n",
       "      <td>14.0</td>\n",
       "      <td>1.0</td>\n",
       "    </tr>\n",
       "    <tr>\n",
       "      <th>1137</th>\n",
       "      <td>183263.0</td>\n",
       "      <td>0.000000</td>\n",
       "      <td>4.000000</td>\n",
       "      <td>0.000000</td>\n",
       "      <td>0.000000</td>\n",
       "      <td>1.500000</td>\n",
       "      <td>0.0</td>\n",
       "      <td>0.000000</td>\n",
       "      <td>0.000000</td>\n",
       "      <td>100.000000</td>\n",
       "      <td>...</td>\n",
       "      <td>12.0</td>\n",
       "      <td>33.0</td>\n",
       "      <td>12.0</td>\n",
       "      <td>1.0</td>\n",
       "      <td>0.0</td>\n",
       "      <td>0.0</td>\n",
       "      <td>3.0</td>\n",
       "      <td>0.0</td>\n",
       "      <td>11.0</td>\n",
       "      <td>3.0</td>\n",
       "    </tr>\n",
       "    <tr>\n",
       "      <th>939</th>\n",
       "      <td>112712.0</td>\n",
       "      <td>1.666667</td>\n",
       "      <td>5.666667</td>\n",
       "      <td>7.333333</td>\n",
       "      <td>0.666667</td>\n",
       "      <td>22.750000</td>\n",
       "      <td>0.0</td>\n",
       "      <td>1.750000</td>\n",
       "      <td>1.000000</td>\n",
       "      <td>93.571429</td>\n",
       "      <td>...</td>\n",
       "      <td>11.0</td>\n",
       "      <td>24.0</td>\n",
       "      <td>10.0</td>\n",
       "      <td>0.0</td>\n",
       "      <td>1.0</td>\n",
       "      <td>0.0</td>\n",
       "      <td>8.0</td>\n",
       "      <td>0.0</td>\n",
       "      <td>8.0</td>\n",
       "      <td>0.0</td>\n",
       "    </tr>\n",
       "    <tr>\n",
       "      <th>798</th>\n",
       "      <td>100898.0</td>\n",
       "      <td>0.000000</td>\n",
       "      <td>4.100000</td>\n",
       "      <td>7.000000</td>\n",
       "      <td>0.888889</td>\n",
       "      <td>35.571429</td>\n",
       "      <td>0.0</td>\n",
       "      <td>1.777778</td>\n",
       "      <td>0.444444</td>\n",
       "      <td>92.000000</td>\n",
       "      <td>...</td>\n",
       "      <td>13.0</td>\n",
       "      <td>21.0</td>\n",
       "      <td>9.0</td>\n",
       "      <td>0.0</td>\n",
       "      <td>0.0</td>\n",
       "      <td>0.0</td>\n",
       "      <td>5.0</td>\n",
       "      <td>0.0</td>\n",
       "      <td>14.0</td>\n",
       "      <td>0.0</td>\n",
       "    </tr>\n",
       "    <tr>\n",
       "      <th>1127</th>\n",
       "      <td>182518.0</td>\n",
       "      <td>1.000000</td>\n",
       "      <td>1.000000</td>\n",
       "      <td>0.000000</td>\n",
       "      <td>0.000000</td>\n",
       "      <td>0.000000</td>\n",
       "      <td>0.0</td>\n",
       "      <td>0.000000</td>\n",
       "      <td>0.000000</td>\n",
       "      <td>100.000000</td>\n",
       "      <td>...</td>\n",
       "      <td>10.0</td>\n",
       "      <td>27.0</td>\n",
       "      <td>9.0</td>\n",
       "      <td>0.0</td>\n",
       "      <td>1.0</td>\n",
       "      <td>0.0</td>\n",
       "      <td>9.0</td>\n",
       "      <td>0.0</td>\n",
       "      <td>13.0</td>\n",
       "      <td>3.0</td>\n",
       "    </tr>\n",
       "    <tr>\n",
       "      <th>693</th>\n",
       "      <td>106519.0</td>\n",
       "      <td>0.000000</td>\n",
       "      <td>4.000000</td>\n",
       "      <td>1.000000</td>\n",
       "      <td>0.000000</td>\n",
       "      <td>3.000000</td>\n",
       "      <td>0.0</td>\n",
       "      <td>0.000000</td>\n",
       "      <td>0.000000</td>\n",
       "      <td>100.000000</td>\n",
       "      <td>...</td>\n",
       "      <td>10.0</td>\n",
       "      <td>24.0</td>\n",
       "      <td>12.0</td>\n",
       "      <td>1.0</td>\n",
       "      <td>1.0</td>\n",
       "      <td>0.0</td>\n",
       "      <td>5.0</td>\n",
       "      <td>0.0</td>\n",
       "      <td>11.0</td>\n",
       "      <td>3.0</td>\n",
       "    </tr>\n",
       "    <tr>\n",
       "      <th>228</th>\n",
       "      <td>52414.0</td>\n",
       "      <td>0.500000</td>\n",
       "      <td>3.250000</td>\n",
       "      <td>0.125000</td>\n",
       "      <td>0.000000</td>\n",
       "      <td>0.750000</td>\n",
       "      <td>0.0</td>\n",
       "      <td>0.000000</td>\n",
       "      <td>0.000000</td>\n",
       "      <td>100.000000</td>\n",
       "      <td>...</td>\n",
       "      <td>11.0</td>\n",
       "      <td>29.0</td>\n",
       "      <td>11.0</td>\n",
       "      <td>1.0</td>\n",
       "      <td>1.0</td>\n",
       "      <td>0.0</td>\n",
       "      <td>1.0</td>\n",
       "      <td>0.0</td>\n",
       "      <td>14.0</td>\n",
       "      <td>3.0</td>\n",
       "    </tr>\n",
       "  </tbody>\n",
       "</table>\n",
       "<p>10 rows × 32 columns</p>\n",
       "</div>"
      ],
      "text/plain": [
       "         PATNO   NP1RTOT   NP1PTOT   NP2PTOT  PDTRTMNT     NP3TOT  DYSKPRES  \\\n",
       "848   101557.0  2.800000  5.500000  8.100000  0.800000  25.700000       0.0   \n",
       "945   113355.0  1.666667  6.166667  6.833333  0.666667  26.750000       0.0   \n",
       "84      3350.0  0.153846  3.153846  0.307692  0.000000   2.923077       0.0   \n",
       "32      3115.0  0.250000  0.000000  0.000000  0.000000   0.000000       0.0   \n",
       "1137  183263.0  0.000000  4.000000  0.000000  0.000000   1.500000       0.0   \n",
       "939   112712.0  1.666667  5.666667  7.333333  0.666667  22.750000       0.0   \n",
       "798   100898.0  0.000000  4.100000  7.000000  0.888889  35.571429       0.0   \n",
       "1127  182518.0  1.000000  1.000000  0.000000  0.000000   0.000000       0.0   \n",
       "693   106519.0  0.000000  4.000000  1.000000  0.000000   3.000000       0.0   \n",
       "228    52414.0  0.500000  3.250000  0.125000  0.000000   0.750000       0.0   \n",
       "\n",
       "           NHY    NP4TOT     MSEADLG  ...  LNS_TOT  HVLT_TOT_Recall  \\\n",
       "848   2.000000  1.111111   92.000000  ...     10.0             22.0   \n",
       "945   2.000000  0.000000   97.500000  ...     12.0             25.0   \n",
       "84    0.153846  0.000000  100.000000  ...     14.0             32.0   \n",
       "32    0.000000  0.000000   99.246154  ...     12.0             19.0   \n",
       "1137  0.000000  0.000000  100.000000  ...     12.0             33.0   \n",
       "939   1.750000  1.000000   93.571429  ...     11.0             24.0   \n",
       "798   1.777778  0.444444   92.000000  ...     13.0             21.0   \n",
       "1127  0.000000  0.000000  100.000000  ...     10.0             27.0   \n",
       "693   0.000000  0.000000  100.000000  ...     10.0             24.0   \n",
       "228   0.000000  0.000000  100.000000  ...     11.0             29.0   \n",
       "\n",
       "      HVLT_DCR_REC  HVLT_RETENTION  GDS_TOT  GDS_Depressed  ESS_TOT  \\\n",
       "848           11.0             0.0      0.0            0.0      1.0   \n",
       "945            9.0             1.0      2.0            0.0     12.0   \n",
       "84            11.0             0.0      0.0            0.0      6.0   \n",
       "32            11.0             1.0      2.0            0.0     10.0   \n",
       "1137          12.0             1.0      0.0            0.0      3.0   \n",
       "939           10.0             0.0      1.0            0.0      8.0   \n",
       "798            9.0             0.0      0.0            0.0      5.0   \n",
       "1127           9.0             0.0      1.0            0.0      9.0   \n",
       "693           12.0             1.0      1.0            0.0      5.0   \n",
       "228           11.0             1.0      1.0            0.0      1.0   \n",
       "\n",
       "      ESS_Sleepy  BJLOT_TOT  COHORT  \n",
       "848          0.0       10.0     0.0  \n",
       "945          1.0       14.0     0.0  \n",
       "84           0.0       14.0     1.0  \n",
       "32           0.0       14.0     1.0  \n",
       "1137         0.0       11.0     3.0  \n",
       "939          0.0        8.0     0.0  \n",
       "798          0.0       14.0     0.0  \n",
       "1127         0.0       13.0     3.0  \n",
       "693          0.0       11.0     3.0  \n",
       "228          0.0       14.0     3.0  \n",
       "\n",
       "[10 rows x 32 columns]"
      ]
     },
     "execution_count": 62,
     "metadata": {},
     "output_type": "execute_result"
    }
   ],
   "source": [
    "f.sample(10)"
   ]
  },
  {
   "cell_type": "code",
   "execution_count": 30,
   "metadata": {},
   "outputs": [
    {
     "data": {
      "text/plain": [
       "PATNO              0\n",
       "NP1RTOT            0\n",
       "NP1PTOT            0\n",
       "NP2PTOT            0\n",
       "PDTRTMNT           0\n",
       "NP3TOT             0\n",
       "DYSKPRES           0\n",
       "NHY                0\n",
       "NP4TOT             0\n",
       "MSEADLG            0\n",
       "ENROLL_AGE_x       0\n",
       "SDMTOTAL           0\n",
       "STAI_TOT           0\n",
       "SFT_TOT            0\n",
       "SCOPA_AUT_TOT      0\n",
       "REMSLEEP_TOT       0\n",
       "QUIP_A             0\n",
       "QUIP_B             0\n",
       "QUIP_C             0\n",
       "QUIP_D             0\n",
       "QUIP_E             0\n",
       "MoCA_score         0\n",
       "LNS_TOT            0\n",
       "HVLT_TOT_Recall    0\n",
       "HVLT_DCR_REC       0\n",
       "HVLT_RETENTION     0\n",
       "GDS_TOT            0\n",
       "GDS_Depressed      0\n",
       "ESS_TOT            0\n",
       "ESS_Sleepy         0\n",
       "BJLOT_TOT          0\n",
       "COHORT             0\n",
       "dtype: int64"
      ]
     },
     "execution_count": 30,
     "metadata": {},
     "output_type": "execute_result"
    }
   ],
   "source": [
    "f.isnull().sum()"
   ]
  },
  {
   "cell_type": "code",
   "execution_count": 63,
   "metadata": {},
   "outputs": [
    {
     "data": {
      "text/plain": [
       "COHORT\n",
       "0.0    1752\n",
       "3.0    1737\n",
       "1.0     357\n",
       "2.0      81\n",
       "Name: count, dtype: int64"
      ]
     },
     "execution_count": 63,
     "metadata": {},
     "output_type": "execute_result"
    }
   ],
   "source": [
    "f['COHORT'].value_counts()"
   ]
  },
  {
   "cell_type": "code",
   "execution_count": 33,
   "metadata": {},
   "outputs": [],
   "source": [
    "X =  f.drop(['COHORT'],axis=1)\n",
    "y= f['COHORT']"
   ]
  },
  {
   "cell_type": "code",
   "execution_count": 64,
   "metadata": {},
   "outputs": [],
   "source": [
    "f.to_csv('merged_mnm.csv')"
   ]
  },
  {
   "cell_type": "code",
   "execution_count": 36,
   "metadata": {},
   "outputs": [],
   "source": [
    "from imblearn.over_sampling import RandomOverSampler\n",
    "oversample = RandomOverSampler(sampling_strategy='minority')\n",
    "X_over, y_over = oversample.fit_resample(X, y)\n",
    "X_train, X_test, y_train, y_test = train_test_split(X_over,y_over , \n",
    "                                   random_state=104,  \n",
    "                                   test_size=0.25,  \n",
    "                                   shuffle=True)"
   ]
  },
  {
   "cell_type": "code",
   "execution_count": 37,
   "metadata": {},
   "outputs": [
    {
     "name": "stdout",
     "output_type": "stream",
     "text": [
      "0.6292857142857143\n"
     ]
    }
   ],
   "source": [
    "svm = SVC(kernel=\"rbf\", gamma=\"auto\",probability=True)\n",
    "svm.fit(X_train,y_train)\n",
    "prediction = svm.predict(X_test)\n",
    "\n",
    "accuracy_SVM = accuracy_score(prediction, y_test)\n",
    "print(accuracy_SVM)"
   ]
  },
  {
   "cell_type": "code",
   "execution_count": 38,
   "metadata": {},
   "outputs": [
    {
     "name": "stdout",
     "output_type": "stream",
     "text": [
      "0.9371428571428572\n"
     ]
    }
   ],
   "source": [
    "dec = DecisionTreeClassifier(random_state=4)\n",
    "dec.fit(X_train,y_train)\n",
    "pred = dec.predict(X_test)\n",
    "accuracy_DEC = accuracy_score(pred, y_test)\n",
    "print(accuracy_DEC)"
   ]
  },
  {
   "cell_type": "code",
   "execution_count": 44,
   "metadata": {},
   "outputs": [
    {
     "name": "stdout",
     "output_type": "stream",
     "text": [
      "0.9607142857142857\n"
     ]
    }
   ],
   "source": [
    "rand = RandomForestClassifier(max_depth=25, random_state=0)\n",
    "rand.fit(X_train,y_train)\n",
    "rand_pred = rand.predict(X_test)\n",
    "rand_accuracy = accuracy_score(rand_pred,y_test)\n",
    "print(rand_accuracy)"
   ]
  },
  {
   "cell_type": "code",
   "execution_count": 40,
   "metadata": {},
   "outputs": [
    {
     "name": "stdout",
     "output_type": "stream",
     "text": [
      "Cross-Validation Results (Accuracy): [0.94020356 0.93384224 0.91592357 0.92484076 0.94649682]\n",
      "Mean Accuracy: 0.9322613896047066\n"
     ]
    }
   ],
   "source": [
    "num_folds = 5\n",
    "kf = KFold(n_splits=num_folds, shuffle=True, random_state=42)\n",
    "cross_val_results = cross_val_score(rand, X, y, cv=kf)\n",
    "print(f'Cross-Validation Results (Accuracy): {cross_val_results}')\n",
    "print(f'Mean Accuracy: {cross_val_results.mean()}')"
   ]
  },
  {
   "cell_type": "code",
   "execution_count": 41,
   "metadata": {},
   "outputs": [
    {
     "name": "stdout",
     "output_type": "stream",
     "text": [
      "Gradient Boosting Classifier Accuracy: 0.9535714285714286\n"
     ]
    }
   ],
   "source": [
    "from sklearn.ensemble import GradientBoostingClassifier\n",
    "from sklearn.metrics import accuracy_score\n",
    "\n",
    "# Assuming X_train, X_test, y_train, and y_test are already defined\n",
    "\n",
    "# Initialize and train the gradient boosting classifier\n",
    "gb_clf = GradientBoostingClassifier()\n",
    "gb_clf.fit(X_train, y_train)\n",
    "\n",
    "# Make predictions on the test set\n",
    "gb_pred = gb_clf.predict(X_test)\n",
    "\n",
    "# Calculate accuracy\n",
    "gb_accuracy = accuracy_score(gb_pred, y_test)\n",
    "print(\"Gradient Boosting Classifier Accuracy:\", gb_accuracy)"
   ]
  },
  {
   "cell_type": "code",
   "execution_count": 53,
   "metadata": {},
   "outputs": [],
   "source": [
    "from sklearn.ensemble import VotingClassifier\n",
    "# Create a Soft Voting Classifier\n",
    "labels = ['Decision ', 'Random Forest','GB']\n",
    "voting_clf_hard = VotingClassifier(\n",
    "\testimators=[\n",
    "        \n",
    "\t\t(labels[1], rand), # Include the second classifier (Random Forest)\n",
    "\t\t(labels[2],gb_clf ), # Include the third classifier (Naive Bayes)\n",
    "\t],\n",
    "\tvoting='soft' # Specify soft voting, where class probabilities are combined\n",
    ")"
   ]
  },
  {
   "cell_type": "code",
   "execution_count": 54,
   "metadata": {},
   "outputs": [
    {
     "name": "stdout",
     "output_type": "stream",
     "text": [
      "0.9535714285714286\n"
     ]
    }
   ],
   "source": [
    "voting_clf_hard.fit(X_train,y_train)\n",
    "V_soft_pred = voting_clf_hard.predict(X_test)\n",
    "voting_soft_accuracy = accuracy_score(V_soft_pred,y_test)\n",
    "print(voting_soft_accuracy)"
   ]
  },
  {
   "cell_type": "code",
   "execution_count": 56,
   "metadata": {},
   "outputs": [],
   "source": [
    "import pickle\n",
    "import joblib\n",
    "model=rand\n",
    "\n",
    "with open(\"model_Merged.pkl\", \"wb\") as f:\n",
    "    pickle.dump(model, f)\n",
    "    \n",
    "with open(\"model_Merged.pkl\", \"rb\") as f:\n",
    "    model = pickle.load(f)\n",
    "    \n",
    "joblib.dump(model, \"model_Merged.joblib\")\n",
    "model = joblib.load(\"model_Merged.joblib\")"
   ]
  },
  {
   "cell_type": "code",
   "execution_count": null,
   "metadata": {},
   "outputs": [],
   "source": []
  }
 ],
 "metadata": {
  "kernelspec": {
   "display_name": "Python 3",
   "language": "python",
   "name": "python3"
  },
  "language_info": {
   "codemirror_mode": {
    "name": "ipython",
    "version": 3
   },
   "file_extension": ".py",
   "mimetype": "text/x-python",
   "name": "python",
   "nbconvert_exporter": "python",
   "pygments_lexer": "ipython3",
   "version": "3.12.0"
  }
 },
 "nbformat": 4,
 "nbformat_minor": 2
}
